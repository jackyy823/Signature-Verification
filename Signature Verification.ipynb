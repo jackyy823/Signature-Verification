{
 "cells": [
  {
   "cell_type": "markdown",
   "id": "15dc23f3",
   "metadata": {},
   "source": [
    "# Signature Verification"
   ]
  },
  {
   "cell_type": "code",
   "execution_count": 1,
   "id": "3f544534",
   "metadata": {},
   "outputs": [],
   "source": [
    "%matplotlib inline\n",
    "import matplotlib.pyplot as plt\n",
    "import numpy as np\n",
    "import pandas as pd\n",
    "import random\n",
    "from PIL import Image\n",
    "import PIL.ImageOps    \n",
    "\n",
    "import torchvision\n",
    "import torchvision.datasets as datasets\n",
    "import torchvision.transforms as transforms\n",
    "from torch.utils.data import DataLoader, Dataset\n",
    "import torchvision.utils\n",
    "import torch\n",
    "from torch.autograd import Variable\n",
    "import torch.nn as nn\n",
    "from torch import optim\n",
    "import torch.nn.functional as F"
   ]
  },
  {
   "cell_type": "markdown",
   "id": "43a8b274",
   "metadata": {},
   "source": [
    "## Utility"
   ]
  },
  {
   "cell_type": "code",
   "execution_count": 2,
   "id": "2b227d5e",
   "metadata": {},
   "outputs": [],
   "source": [
    "# showing images\n",
    "def imshow(img, text=None):\n",
    "    npimg = img.numpy()\n",
    "    plt.axis(\"off\")\n",
    "    if text:\n",
    "        plt.text(75, 8, text, style='italic', fontweight='bold',\n",
    "            bbox={'facecolor':'white', 'alpha':0.8, 'pad':10})\n",
    "    plt.imshow(np.transpose(npimg, (1, 2, 0)))\n",
    "    plt.show()    \n",
    "\n",
    "# plotting data\n",
    "def show_plot(iteration, loss):\n",
    "    plt.plot(iteration, loss)\n",
    "    plt.show()"
   ]
  },
  {
   "cell_type": "markdown",
   "id": "daf8e4d2",
   "metadata": {},
   "source": [
    "## Siamese Code Structure"
   ]
  },
  {
   "cell_type": "code",
   "execution_count": 3,
   "id": "0f9caa03",
   "metadata": {},
   "outputs": [],
   "source": [
    "class SiameseNetwork(nn.Module):\n",
    "    def __init__(self):\n",
    "        super(SiameseNetwork, self).__init__()\n",
    "        \n",
    "        self.cnn1 = nn.Sequential( \n",
    "        nn.Conv2d(1, 96, kernel_size=11, stride=1),\n",
    "        nn.ReLU(inplace=True),\n",
    "        nn.LocalResponseNorm(5, alpha=0.0001, beta=0.75, k=2),\n",
    "        nn.MaxPool2d(3, stride=2),\n",
    "\n",
    "        nn.Conv2d(96, 256, kernel_size=5, stride=1, padding=2),\n",
    "        nn.ReLU(inplace=True),\n",
    "        nn.LocalResponseNorm(5, alpha=0.0001, beta=0.75, k=2),\n",
    "        nn.MaxPool2d(3, stride=2),\n",
    "        nn.Dropout2d(p=0.3),\n",
    "\n",
    "        nn.Conv2d(256, 384, kernel_size=3, stride=1, padding=1),\n",
    "        nn.ReLU(inplace=True),\n",
    "        nn.Conv2d(384, 256, kernel_size=3, stride=1, padding=1),\n",
    "        nn.ReLU(inplace=True),\n",
    "        nn.MaxPool2d(3, stride=2),\n",
    "        nn.Dropout2d(p=0.3))\n",
    "\n",
    "        # defining the fully connected layers\n",
    "        self.fc1 = nn.Sequential(\n",
    "        # first dense layer\n",
    "        nn.Linear(30976, 1024),\n",
    "        nn.ReLU(inplace=True),\n",
    "        nn.Dropout2d(p=0.5),\n",
    "        # second dense layer\n",
    "        nn.Linear(1024, 128),\n",
    "        nn.ReLU(inplace=True),\n",
    "        # final dense layer\n",
    "        nn.Linear(128, 2))\n",
    "\n",
    "    def forward_once(self, x):\n",
    "        # forward pass \n",
    "        output = self.cnn1(x)\n",
    "        output = output.view(output.size()[0], -1)\n",
    "        output = self.fc1(output)\n",
    "        return output\n",
    "\n",
    "    def forward(self, input1, input2):\n",
    "        # forward pass of input 1\n",
    "        output1 = self.forward_once(input1)\n",
    "        # forward pass of input 2\n",
    "        output2 = self.forward_once(input2)\n",
    "        # returning the feature vectors of two inputs\n",
    "        return output1, output2"
   ]
  },
  {
   "cell_type": "markdown",
   "id": "c2a75679",
   "metadata": {},
   "source": [
    "## Contrastive Loss Definition"
   ]
  },
  {
   "cell_type": "code",
   "execution_count": 4,
   "id": "7a93c0a4",
   "metadata": {},
   "outputs": [],
   "source": [
    "class ContrastiveLoss(torch.nn.Module):\n",
    "    def __init__(self, margin=2.0):\n",
    "        super(ContrastiveLoss, self).__init__()\n",
    "        self.margin = margin\n",
    "\n",
    "    def forward(self, output1, output2, label):\n",
    "        # find the pairwise distance or eucledian distance of two output feature vectors\n",
    "        euclidean_distance = F.pairwise_distance(output1, output2)\n",
    "        # perform contrastive loss calculation with the distance\n",
    "        loss_contrastive = torch.mean((1-label) * torch.pow(euclidean_distance, 2) +\n",
    "        (label) * torch.pow(torch.clamp(self.margin - euclidean_distance, min=0.0), 2))\n",
    "        return loss_contrastive"
   ]
  },
  {
   "cell_type": "markdown",
   "id": "adc7b803",
   "metadata": {},
   "source": [
    "## Oneshot Learning"
   ]
  },
  {
   "cell_type": "code",
   "execution_count": 5,
   "id": "c5201b4b",
   "metadata": {},
   "outputs": [],
   "source": [
    "def Oneshot(model, img1, img2):\n",
    "    # gives you the feature vector of both inputs\n",
    "    output1, output2 = model(img1.cuda(),img2.cuda())\n",
    "    # compute the distance \n",
    "    euclidean_distance = F.pairwise_distance(output1, output2)\n",
    "    # with certain threshold of distance say its similar or not\n",
    "    if eucledian_distance > 0.5:\n",
    "        print(\"Original Signature\")\n",
    "    else:\n",
    "        print(\"Forged Signature\")"
   ]
  },
  {
   "cell_type": "code",
   "execution_count": null,
   "id": "0e093d4c",
   "metadata": {},
   "outputs": [],
   "source": []
  }
 ],
 "metadata": {
  "kernelspec": {
   "display_name": "Python [conda env:cv] *",
   "language": "python",
   "name": "conda-env-cv-py"
  },
  "language_info": {
   "codemirror_mode": {
    "name": "ipython",
    "version": 3
   },
   "file_extension": ".py",
   "mimetype": "text/x-python",
   "name": "python",
   "nbconvert_exporter": "python",
   "pygments_lexer": "ipython3",
   "version": "3.8.6"
  }
 },
 "nbformat": 4,
 "nbformat_minor": 5
}
