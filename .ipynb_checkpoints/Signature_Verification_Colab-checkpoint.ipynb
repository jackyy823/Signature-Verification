{
 "cells": [
  {
   "cell_type": "markdown",
   "metadata": {
    "id": "cZcZOKCsn2Wf"
   },
   "source": [
    "# Signature Verification"
   ]
  },
  {
   "cell_type": "code",
   "execution_count": null,
   "metadata": {
    "id": "u3IR9qRl4AG3"
   },
   "outputs": [],
   "source": [
    "%matplotlib inline\n",
    "import matplotlib.pyplot as plt\n",
    "import numpy as np\n",
    "import pandas as pd\n",
    "import random\n",
    "from PIL import Image\n",
    "import PIL.ImageOps    \n",
    "import os\n",
    "\n",
    "import torchvision\n",
    "import torchvision.datasets as datasets\n",
    "import torchvision.transforms as transforms\n",
    "from torch.utils.data import DataLoader, Dataset\n",
    "import torchvision.utils\n",
    "import torch\n",
    "from torch.autograd import Variable\n",
    "import torch.nn as nn\n",
    "from torch import optim\n",
    "import torch.nn.functional as F"
   ]
  },
  {
   "cell_type": "markdown",
   "metadata": {
    "id": "BBT6q_5-n2Wn"
   },
   "source": [
    "## Utilities"
   ]
  },
  {
   "cell_type": "code",
   "execution_count": null,
   "metadata": {
    "id": "kCCXmjN74ODG"
   },
   "outputs": [],
   "source": [
    "# showing images\n",
    "def imshow(img, text=None):\n",
    "    npimg = img.numpy()\n",
    "    plt.axis(\"off\")\n",
    "    if text:\n",
    "        plt.text(75, 8, text, style='italic', fontweight='bold',\n",
    "            bbox={'facecolor':'white', 'alpha':0.8, 'pad':10})\n",
    "    plt.imshow(np.transpose(npimg, (1, 2, 0)))\n",
    "    plt.show()    \n",
    "\n",
    "# plotting data\n",
    "def show_plot(iteration, loss):\n",
    "    plt.plot(iteration, loss)\n",
    "    plt.show()"
   ]
  },
  {
   "cell_type": "code",
   "execution_count": null,
   "metadata": {
    "id": "0vAsnKr16-qh"
   },
   "outputs": [],
   "source": [
    "class SiameseNetworkDataset(Dataset):\n",
    "    def __init__(self, imageFolderDataset, transform=None, should_invert=True):\n",
    "        self.imageFolderDataset = imageFolderDataset    \n",
    "        self.transform = transform\n",
    "        self.should_invert = should_invert\n",
    "        \n",
    "    def __getitem__(self, index):\n",
    "        img0_tuple = random.choice(self.imageFolderDataset.imgs)\n",
    "        \n",
    "        while True:\n",
    "            # keep looping till the same class image is found\n",
    "            img1_tuple = random.choice(self.imageFolderDataset.imgs) \n",
    "            \n",
    "            # testing \n",
    "            print(\"img0_tuple[1] =\",img0_tuple[1])\n",
    "            print(\"img1_tuple[1] =\",img1_tuple[1])\n",
    "            \n",
    "            if img0_tuple[1] == img1_tuple[1]:\n",
    "                print('Match!')\n",
    "                break\n",
    "\n",
    "        img0 = Image.open(img0_tuple[0])\n",
    "        img1 = Image.open(img1_tuple[0])\n",
    "        img0 = img0.convert(\"L\")\n",
    "        img1 = img1.convert(\"L\")\n",
    "        \n",
    "        if self.should_invert:\n",
    "            img0 = PIL.ImageOps.invert(img0)\n",
    "            img1 = PIL.ImageOps.invert(img1)\n",
    "\n",
    "        if self.transform is not None:\n",
    "            img0 = self.transform(img0)\n",
    "            img1 = self.transform(img1)\n",
    "        \n",
    "        return img0, img1 , torch.from_numpy(np.array([int(img1_tuple[1]!=img0_tuple[1])],dtype=np.float32))\n",
    "    \n",
    "    def __len__(self):\n",
    "        return len(self.imageFolderDataset.imgs)"
   ]
  },
  {
   "cell_type": "markdown",
   "metadata": {
    "id": "SyOLr8aKn2Wp"
   },
   "source": [
    "## Siamese Network"
   ]
  },
  {
   "cell_type": "code",
   "execution_count": null,
   "metadata": {
    "id": "LF7-dr1Y7D0y"
   },
   "outputs": [],
   "source": [
    "class SiameseNetwork(nn.Module):\n",
    "    def __init__(self):\n",
    "        super(SiameseNetwork, self).__init__()\n",
    "        \n",
    "        self.cnn1 = nn.Sequential( \n",
    "        nn.Conv2d(1, 96, kernel_size=11, stride=1),\n",
    "        nn.ReLU(inplace=True),\n",
    "        nn.LocalResponseNorm(5, alpha=0.0001, beta=0.75, k=2),\n",
    "        nn.MaxPool2d(3, stride=2),\n",
    "\n",
    "        nn.Conv2d(96, 256, kernel_size=5, stride=1, padding=2),\n",
    "        nn.ReLU(inplace=True),\n",
    "        nn.LocalResponseNorm(5, alpha=0.0001, beta=0.75, k=2),\n",
    "        nn.MaxPool2d(3, stride=2),\n",
    "        nn.Dropout2d(p=0.3),\n",
    "\n",
    "        nn.Conv2d(256, 384, kernel_size=3, stride=1, padding=1),\n",
    "        nn.ReLU(inplace=True),\n",
    "        nn.Conv2d(384, 256, kernel_size=3, stride=1, padding=1),\n",
    "        nn.ReLU(inplace=True),\n",
    "        nn.MaxPool2d(3, stride=2),\n",
    "        nn.Dropout2d(p=0.3))\n",
    "\n",
    "        # defining the fully connected layers\n",
    "        self.fc1 = nn.Sequential(\n",
    "        # first dense layer\n",
    "        nn.Linear(25600, 1024),\n",
    "        nn.ReLU(inplace=True),\n",
    "        nn.Dropout2d(p=0.5),\n",
    "        # second dense layer\n",
    "        nn.Linear(1024, 128),\n",
    "        nn.ReLU(inplace=True),\n",
    "        # final dense layer\n",
    "        nn.Linear(128, 2))\n",
    "\n",
    "    def forward_once(self, x):\n",
    "        # forward pass \n",
    "        output = self.cnn1(x)\n",
    "        output = output.view(output.size()[0], -1)\n",
    "        output = self.fc1(output)\n",
    "        return output\n",
    "\n",
    "    def forward(self, input1, input2):\n",
    "        # forward pass of input 1\n",
    "        output1 = self.forward_once(input1)\n",
    "        # forward pass of input 2\n",
    "        output2 = self.forward_once(input2)\n",
    "        # returning the feature vectors of two inputs\n",
    "        return output1, output2"
   ]
  },
  {
   "cell_type": "code",
   "execution_count": null,
   "metadata": {
    "id": "m8CWnRxR7OQY"
   },
   "outputs": [],
   "source": [
    "class ContrastiveLoss(torch.nn.Module):\n",
    "    def __init__(self, margin=2.0):\n",
    "        super(ContrastiveLoss, self).__init__()\n",
    "        self.margin = margin\n",
    "\n",
    "    def forward(self, output1, output2, label):\n",
    "        # find the pairwise distance or eucledian distance of two output feature vectors\n",
    "        euclidean_distance = F.pairwise_distance(output1, output2)\n",
    "        # perform contrastive loss calculation with the distance\n",
    "        loss_contrastive = torch.mean((1-label) * torch.pow(euclidean_distance, 2) +\n",
    "        (label) * torch.pow(torch.clamp(self.margin - euclidean_distance, min=0.0), 2))\n",
    "        return loss_contrastive"
   ]
  },
  {
   "cell_type": "markdown",
   "metadata": {
    "id": "Wno5y5-wn2Wq"
   },
   "source": [
    "## Training"
   ]
  },
  {
   "cell_type": "code",
   "execution_count": null,
   "metadata": {
    "id": "qdeI5KUL7RQL"
   },
   "outputs": [],
   "source": [
    "# config\n",
    "\n",
    "train_dataset_dir = datasets.ImageFolder(root=\"./sign_data/train\")\n",
    "test_dataset_dir = datasets.ImageFolder(root=\"./sign_data/test\")\n",
    "\n",
    "# train_dataset_dir = datasets.ImageFolder(root=\"./custom_sign_data/original\")\n",
    "# test_dataset_dir = datasets.ImageFolder(root=\"./custom_sign_data/forged\")\n",
    "\n",
    "train_batch_size = 64\n",
    "train_number_epochs = 100"
   ]
  },
  {
   "cell_type": "code",
   "execution_count": null,
   "metadata": {
    "id": "Ivj686qEB8Oo"
   },
   "outputs": [],
   "source": [
    "train_dataset = SiameseNetworkDataset(imageFolderDataset=train_dataset_dir, \n",
    "                                      transform=transforms.Compose([transforms.Resize((100,100)),\n",
    "                                                                      transforms.ToTensor()]),\n",
    "                                      should_invert=False)"
   ]
  },
  {
   "cell_type": "code",
   "execution_count": null,
   "metadata": {
    "id": "8sC9SBImCHiP"
   },
   "outputs": [],
   "source": [
    "train_dataloader = DataLoader(train_dataset,\n",
    "                        shuffle=True,\n",
    "                        batch_size=train_batch_size)"
   ]
  },
  {
   "cell_type": "code",
   "execution_count": null,
   "metadata": {
    "id": "Jd3kpDNBCbSY"
   },
   "outputs": [],
   "source": [
    "def train():\n",
    "    device = 'cuda:0' if torch.cuda.is_available() else 'cpu'\n",
    "    print('Device state:', device)\n",
    "    \n",
    "    net = SiameseNetwork().to(device)\n",
    "    criterion = ContrastiveLoss()\n",
    "    optimizer = optim.Adam(net.parameters(), lr = 0.0005)\n",
    "    \n",
    "    counter = []\n",
    "    loss_history = [] \n",
    "    iteration_number = 0\n",
    "    \n",
    "    for epoch in range(0, train_number_epochs):\n",
    "        for i, data in enumerate(train_dataloader, 0):\n",
    "            img0, img1, label = data\n",
    "            img0, img1, label = img0.to(device), img1.to(device), label.to(device)\n",
    "            optimizer.zero_grad()\n",
    "            output1, output2 = net(img0, img1)\n",
    "            loss_contrastive = criterion(output1, output2, label)\n",
    "            loss_contrastive.backward()\n",
    "            optimizer.step()\n",
    "            if i % 10 == 0 :\n",
    "                print(\"Epoch number {}\\n Current loss {}\\n\".format(epoch, loss_contrastive.item()))\n",
    "                iteration_number += 10\n",
    "                counter.append(iteration_number)\n",
    "                loss_history.append(loss_contrastive.item())\n",
    "\n",
    "    show_plot(counter,loss_history)\n",
    "    return net"
   ]
  },
  {
   "cell_type": "code",
   "execution_count": null,
   "metadata": {
    "colab": {
     "base_uri": "https://localhost:8080/",
     "height": 1000
    },
    "id": "MCjTiGaQn2Ws",
    "outputId": "bd200520-dbd2-4a40-ee7e-6078e24677c0"
   },
   "outputs": [],
   "source": [
    "model = train()\n",
    "torch.save(model.state_dict(), \"model.pt\")\n",
    "print(\"Model saved successfully\")"
   ]
  },
  {
   "cell_type": "code",
   "execution_count": null,
   "metadata": {
    "id": "SMiMXsfVn2Ws"
   },
   "outputs": [],
   "source": [
    "# Load the saved model \n",
    "model = SiameseNetwork().to(device)\n",
    "model.load_state_dict(torch.load(\"model.pt\"))"
   ]
  },
  {
   "cell_type": "code",
   "execution_count": null,
   "metadata": {
    "id": "Mm3_yQQ3w36t"
   },
   "outputs": [],
   "source": [
    "test_dataset = SiameseNetworkDataset(imageFolderDataset=test_dataset_dir,\n",
    "                                     transform=transforms.Compose([transforms.Resize((100,100)),\n",
    "                                                                      transforms.ToTensor()\n",
    "                                                                      ]),\n",
    "                                     should_invert=False)"
   ]
  },
  {
   "cell_type": "code",
   "execution_count": null,
   "metadata": {
    "colab": {
     "base_uri": "https://localhost:8080/"
    },
    "id": "zLmkGDCyxmDL",
    "outputId": "9547613a-0645-4f6e-ad71-f128f78c8f2b"
   },
   "outputs": [],
   "source": [
    "test_dataloader = DataLoader(test_dataset, batch_size=1, shuffle=True)\n",
    "# test_dataloader = DataLoader(test_dataset)"
   ]
  },
  {
   "cell_type": "code",
   "execution_count": null,
   "metadata": {
    "colab": {
     "base_uri": "https://localhost:8080/",
     "height": 1000
    },
    "id": "KT16tZIDw4Cx",
    "outputId": "091df428-e74d-4b12-dd60-5a1b705577dd",
    "scrolled": false
   },
   "outputs": [],
   "source": [
    "device = 'cuda:0' if torch.cuda.is_available() else 'cpu'\n",
    "print('Device state:', device)\n",
    "net = SiameseNetwork().to(device)\n",
    "\n",
    "counter = 0\n",
    "list_0 = torch.FloatTensor([[0]])\n",
    "list_1 = torch.FloatTensor([[1]])\n",
    "\n",
    "for i, data in enumerate(test_dataloader, 0): \n",
    "    x0, x1, label = data\n",
    "    concatenated = torch.cat((x0, x1), 0)\n",
    "    output1, output2 = net(x0.cuda(), x1.cuda())\n",
    "    eucledian_distance = F.pairwise_distance(output1, output2)\n",
    "    \n",
    "    if label == list_0:\n",
    "        label = \"Original\"\n",
    "    else: \n",
    "        label = \"Forged\"\n",
    "        \n",
    "    imshow(torchvision.utils.make_grid(concatenated),'Dissimilarity: {:.2f} Label: {}'.format(eucledian_distance.item(),label))\n",
    "    counter = counter + 1\n",
    "    if counter == 20:\n",
    "        break"
   ]
  },
  {
   "cell_type": "code",
   "execution_count": null,
   "metadata": {
    "id": "muia_3Znw4O9"
   },
   "outputs": [],
   "source": []
  }
 ],
 "metadata": {
  "accelerator": "GPU",
  "colab": {
   "collapsed_sections": [],
   "name": "Signature_Verification_Colab.ipynb",
   "provenance": []
  },
  "gpuClass": "standard",
  "kernelspec": {
   "display_name": "Python 3 (ipykernel)",
   "language": "python",
   "name": "python3"
  },
  "language_info": {
   "codemirror_mode": {
    "name": "ipython",
    "version": 3
   },
   "file_extension": ".py",
   "mimetype": "text/x-python",
   "name": "python",
   "nbconvert_exporter": "python",
   "pygments_lexer": "ipython3",
   "version": "3.8.6"
  }
 },
 "nbformat": 4,
 "nbformat_minor": 1
}
